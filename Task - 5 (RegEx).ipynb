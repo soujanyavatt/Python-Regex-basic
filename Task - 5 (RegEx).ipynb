{
 "cells": [
  {
   "cell_type": "markdown",
   "id": "3735d3d5",
   "metadata": {},
   "source": [
    "## Detect Floating Point Number\n",
    "\n"
   ]
  },
  {
   "cell_type": "code",
   "execution_count": 2,
   "id": "9a200d9a",
   "metadata": {},
   "outputs": [],
   "source": [
    "import re"
   ]
  },
  {
   "cell_type": "code",
   "execution_count": 9,
   "id": "fc4d755b",
   "metadata": {},
   "outputs": [
    {
     "name": "stdout",
     "output_type": "stream",
     "text": [
      "4\n",
      "4.0O0\n",
      "False\n",
      "-1.00\n",
      "True\n",
      "+4.54\n",
      "True\n",
      "SomeRandomStuff\n",
      "False\n"
     ]
    }
   ],
   "source": [
    "for i in range(int(input())):\n",
    "    N = input()\n",
    "    print(bool(re.match(r'^[+-]?[0-9]*\\.[0-9]+$',N)))"
   ]
  },
  {
   "cell_type": "code",
   "execution_count": null,
   "id": "c8787db6",
   "metadata": {},
   "outputs": [],
   "source": []
  },
  {
   "cell_type": "markdown",
   "id": "ad66d847",
   "metadata": {},
   "source": [
    "## Re.split()\n",
    "\n",
    "### Task \n",
    "You are given a string SS, containing , and/or . and 0-9 digits. \n",
    "Your task is to re.split() all of the , and . symbols."
   ]
  },
  {
   "cell_type": "code",
   "execution_count": 18,
   "id": "7110cc0d",
   "metadata": {},
   "outputs": [
    {
     "name": "stdout",
     "output_type": "stream",
     "text": [
      "100,000,000.000\n",
      "100\n",
      "000\n",
      "000\n",
      "000\n"
     ]
    }
   ],
   "source": [
    "S = input()\n",
    "regex_pattern = r'[,.]'\n",
    "print(\"\\n\".join(re.split(regex_pattern,S)))"
   ]
  },
  {
   "cell_type": "code",
   "execution_count": null,
   "id": "75572b5a",
   "metadata": {},
   "outputs": [],
   "source": []
  },
  {
   "cell_type": "markdown",
   "id": "6536a349",
   "metadata": {},
   "source": [
    "## Re.findall() & Re.finditer()\n",
    "Task<br>\n",
    "You are given a string SS. It consists of alphanumeric characters, spaces and symbols(+,-).<br>\n",
    "Your task is to find all the substrings of SS that contains 22 or more vowels.<br>\n",
    "Also, these substrings must lie in between 22 consonants and should contain vowels only."
   ]
  },
  {
   "cell_type": "code",
   "execution_count": 3,
   "id": "5e0cd4a9",
   "metadata": {},
   "outputs": [
    {
     "name": "stdout",
     "output_type": "stream",
     "text": [
      "rabcdeefgyYhFjkIoomnpOeorteeeeet\n",
      "ee\n",
      "Ioo\n",
      "Oeo\n",
      "eeeee\n"
     ]
    }
   ],
   "source": [
    "ss = re.findall(r'(?<=[^aeiouAEIOU ])[aeiouAEIOU]{2,}(?=[^aeiouAEIOU ])',input())\n",
    "\n",
    "if ss:\n",
    "    for i in ss:\n",
    "        print(i)\n",
    "else:\n",
    "    print(-1)"
   ]
  },
  {
   "cell_type": "code",
   "execution_count": null,
   "id": "82b86fd5",
   "metadata": {},
   "outputs": [],
   "source": []
  },
  {
   "cell_type": "code",
   "execution_count": null,
   "id": "cc61336f",
   "metadata": {},
   "outputs": [],
   "source": []
  },
  {
   "cell_type": "markdown",
   "id": "93695b42",
   "metadata": {},
   "source": [
    "## Group(), Groups() & Groupdict()\n",
    "Task<br>\n",
    "You are given a string SS.<br> \n",
    "Your task is to find the first occurrence of an alphanumeric character in SS (read from left to right) that has consecutive repetitions.\n"
   ]
  },
  {
   "cell_type": "code",
   "execution_count": 24,
   "id": "f7b69f69",
   "metadata": {},
   "outputs": [
    {
     "name": "stdout",
     "output_type": "stream",
     "text": [
      "..12345678910111213141516171820212223\n",
      "1\n"
     ]
    }
   ],
   "source": [
    "m = re.search(r'([A-Za-z0-9])\\1+',input())\n",
    "if m:\n",
    "    print(m.group(1))\n",
    "else:\n",
    "    print(-1)"
   ]
  },
  {
   "cell_type": "code",
   "execution_count": null,
   "id": "eebcaae7",
   "metadata": {},
   "outputs": [],
   "source": []
  },
  {
   "cell_type": "markdown",
   "id": "2755594d",
   "metadata": {},
   "source": [
    "## Re.start() & Re.end()\n",
    "Task :<br>\n",
    "You are given a string S.<br>\n",
    "Your task is to find the indices of the start and end of string k in S."
   ]
  },
  {
   "cell_type": "code",
   "execution_count": 36,
   "id": "7048c1bd",
   "metadata": {},
   "outputs": [
    {
     "name": "stdout",
     "output_type": "stream",
     "text": [
      "aaadaa\n",
      "aa\n",
      "(0, 1)\n",
      "(1, 2)\n",
      "(4, 5)\n"
     ]
    }
   ],
   "source": [
    "text,pattern = input(),input()\n",
    "m = list(re.finditer('(?=(%s))'%pattern,text))\n",
    "\n",
    "if not m:\n",
    "    print((-1,-1))\n",
    "for i in m:\n",
    "    print((i.start(1),i.end(1)-1))"
   ]
  },
  {
   "cell_type": "code",
   "execution_count": null,
   "id": "274d48cd",
   "metadata": {},
   "outputs": [],
   "source": []
  },
  {
   "cell_type": "markdown",
   "id": "ea89e155",
   "metadata": {},
   "source": [
    "## Regex Substitution\n",
    "Task :<br>\n",
    "You are given a text of N lines. The text contains && and || symbols.<br>\n",
    "Your task is to modify those symbols to the following:<br>\n",
    "&& → and<br>\n",
    "|| → or<br>\n",
    "Both && and || should have a space \" \" on both sides."
   ]
  },
  {
   "cell_type": "code",
   "execution_count": 42,
   "id": "02d6c1dc",
   "metadata": {},
   "outputs": [
    {
     "name": "stdout",
     "output_type": "stream",
     "text": [
      "11\n",
      "a = 1;\n",
      "a = 1;\n",
      "b = input();\n",
      "b = input();\n",
      "if a + b > 0 && a - b < 0:\n",
      "if a + b > 0 and a - b < 0:\n",
      "start()\n",
      "start()\n",
      "elif a*b > 10 || a/b < 1:\n",
      "elif a*b > 10 or a/b < 1:\n",
      "stop()\n",
      "stop()\n",
      "print set(list(a)) | set(list(b))\n",
      "print set(list(a)) | set(list(b))\n",
      "#Note do not change &&& or ||| or & or |\n",
      "#Note do not change &&& or ||| or & or |\n",
      "#Only change those '&&' which have space on both sides.\n",
      "#Only change those '&&' which have space on both sides.\n",
      "#Only change those '|| which have space on both sides.\n",
      "#Only change those '|| which have space on both sides.\n",
      "\n",
      "\n"
     ]
    }
   ],
   "source": [
    "def pattern(match):\n",
    "    if match.group(0) == '&&':\n",
    "        return 'and'\n",
    "    elif match.group(1) == '||':\n",
    "        return 'or'\n",
    "for i in range(int(input())):\n",
    "    print(re.sub(r'(?<= )(\\|\\||&&)(?= )',pattern,input()))    "
   ]
  },
  {
   "cell_type": "code",
   "execution_count": null,
   "id": "171d5382",
   "metadata": {},
   "outputs": [],
   "source": []
  },
  {
   "cell_type": "markdown",
   "id": "09e9d6a8",
   "metadata": {},
   "source": [
    "## Validating Roman Numerals\n",
    "You are given a string, and you have to validate whether it's a valid Roman numeral. If it is valid, print True. Otherwise, print False. Try to create a regular expression for a valid Roman numeral."
   ]
  },
  {
   "cell_type": "code",
   "execution_count": 56,
   "id": "9e152279",
   "metadata": {},
   "outputs": [
    {
     "name": "stdout",
     "output_type": "stream",
     "text": [
      "CDXXI\n",
      "True\n"
     ]
    }
   ],
   "source": [
    "thousand = 'M{0,3}'\n",
    "hundred = '(CM|CD|D?C{0,3})'\n",
    "tens = '(XC|XL|L?X{0,3})'\n",
    "ones = '(IX|IV|V?I{0,3})'\n",
    "regex_pattern = r'%s%s%s%s$'% (thousand, hundred, tens, ones)\n",
    "\n",
    "print(str(bool(re.match(regex_pattern, input()))))"
   ]
  },
  {
   "cell_type": "code",
   "execution_count": 58,
   "id": "c3c91de8",
   "metadata": {},
   "outputs": [
    {
     "name": "stdout",
     "output_type": "stream",
     "text": [
      "CDXXI\n",
      "True\n"
     ]
    }
   ],
   "source": [
    "thousand = 'M{0,3}'\n",
    "hundred = '(CM|CD|D?C{0,3})'\n",
    "tens = '(XC|XL|L?X{0,3})'\n",
    "ones = '(IX|IV|V?I{0,3})'\n",
    "\n",
    "pattern = r'%s%s%s%s$'% (thousand, hundred, tens, ones)\n",
    "roman_numeral = str(input())\n",
    "if re.search(pattern,roman_numeral):\n",
    "    print('True')\n",
    "else:\n",
    "    print('False')"
   ]
  },
  {
   "cell_type": "code",
   "execution_count": null,
   "id": "379c9f61",
   "metadata": {},
   "outputs": [],
   "source": []
  },
  {
   "cell_type": "markdown",
   "id": "8b1d0ece",
   "metadata": {},
   "source": [
    "## Validating phone numbers"
   ]
  },
  {
   "cell_type": "code",
   "execution_count": 81,
   "id": "d215b24c",
   "metadata": {},
   "outputs": [
    {
     "name": "stdout",
     "output_type": "stream",
     "text": [
      "2\n",
      "9587456281\n",
      "YES\n",
      "1252478965\n",
      "NO\n"
     ]
    }
   ],
   "source": [
    "for i in range(int(input())):\n",
    "    \n",
    "    pattern = (r'[789][\\d]{9}')\n",
    "    \n",
    "    phone_number = input()\n",
    "    \n",
    "    print(\"{}\".format(\"YES\" if bool(re.search(pattern,phone_number) and len(phone_number)== 10) else \"NO\"))\n",
    "\n"
   ]
  },
  {
   "cell_type": "code",
   "execution_count": null,
   "id": "27e0a46f",
   "metadata": {},
   "outputs": [],
   "source": []
  },
  {
   "cell_type": "markdown",
   "id": "e10544c5",
   "metadata": {},
   "source": [
    "## Validating and Parsing Email Addresses\n",
    "The first line contains a single integer, n, denoting the number of email address.<br>\n",
    "Each line i of the n subsequent lines contains a name and an email address as two space-separated values following this format:\n",
    "name <user@email.com>"
   ]
  },
  {
   "cell_type": "code",
   "execution_count": 82,
   "id": "cab39d74",
   "metadata": {},
   "outputs": [],
   "source": [
    "import email.utils"
   ]
  },
  {
   "cell_type": "code",
   "execution_count": 84,
   "id": "d6c0e3dd",
   "metadata": {},
   "outputs": [
    {
     "name": "stdout",
     "output_type": "stream",
     "text": [
      "2\n",
      "DEXTER <dexter@hotmail.com>\n",
      "DEXTER <dexter@hotmail.com>\n",
      "VIRUS <virus!@variable.:p>\n"
     ]
    }
   ],
   "source": [
    "n = int(input())\n",
    "\n",
    "pattern = r'^[a-z][\\w\\-\\.]+@[a-z]+\\.[a-z]{1,3}$'\n",
    "for i in range(n):\n",
    "    parsed_addr = email.utils.parseaddr(input())\n",
    "    if re.search(pattern,parsed_addr[1]):\n",
    "        print(email.utils.formataddr(parsed_addr))\n"
   ]
  },
  {
   "cell_type": "code",
   "execution_count": null,
   "id": "9d18c06f",
   "metadata": {},
   "outputs": [],
   "source": []
  },
  {
   "cell_type": "markdown",
   "id": "6a576bb4",
   "metadata": {},
   "source": [
    "## Hex Color Code"
   ]
  },
  {
   "cell_type": "code",
   "execution_count": 88,
   "id": "c719b9b6",
   "metadata": {},
   "outputs": [
    {
     "name": "stdout",
     "output_type": "stream",
     "text": [
      "11\n",
      "#BED\n",
      "{\n",
      "color: #FfFdF8; background-color:#aef;\n",
      "#FfFdF8\n",
      "#aef\n",
      "font-size: 123px;\n",
      "background: -webkit-linear-gradient(top, #f9f9f9, #fff);\n",
      "#f9f9f9\n",
      "#fff\n",
      "}\n",
      "#Cab\n",
      "{\n",
      "background-color: #ABC;\n",
      "#ABC\n",
      "border: 2px dashed #fff;\n",
      "#fff\n",
      "}\n"
     ]
    }
   ],
   "source": [
    "N = int(input())\n",
    "in_css = False\n",
    "for i in range(N):\n",
    "    s = input()\n",
    "    if '{' in s:\n",
    "        in_css = True\n",
    "    elif '}' in s:\n",
    "        in_css = False\n",
    "    elif in_css:\n",
    "        for colorcode in re.findall(r'#[a-fA-F0-9]{3,6}',s):\n",
    "            print(colorcode)"
   ]
  },
  {
   "cell_type": "code",
   "execution_count": null,
   "id": "3996e0f7",
   "metadata": {},
   "outputs": [],
   "source": []
  },
  {
   "cell_type": "markdown",
   "id": "8e63ad7b",
   "metadata": {},
   "source": [
    "## HTML Parser - Part 1\n",
    "\n",
    "Task <br>\n",
    "You are given an HTML code snippet of  lines. <br>\n",
    "Your task is to print start tags, end tags and empty tags separately.<br>\n",
    "Format your results in the following way:<br>\n",
    "Start : Tag1<br>\n",
    "End   : Tag1<br>\n",
    "Start : Tag2<br>\n",
    "-> Attribute2[0] > Attribute_value2[0]<br>\n",
    "-> Attribute2[1] > Attribute_value2[1]<br>\n",
    "-> Attribute2[2] > Attribute_value2[2]<br>\n",
    "Start : Tag3<br>\n",
    "-> Attribute3[0] > None<br>\n",
    "Empty : Tag4<br>\n",
    "-> Attribute4[0] > Attribute_value4[0]<br>\n",
    "End   : Tag3<br>\n",
    "End   : Tag2<br>\n",
    "Here, the -> symbol indicates that the tag contains an attribute. It is immediately followed by the name of the attribute and the attribute value. <br>\n",
    "The > symbol acts as a separator of the attribute and the attribute value.<br>\n",
    "If an HTML tag has no attribute then simply print the name of the tag.<br> \n",
    "If an attribute has no attribute value then simply print the name of the attribute value as None.<br>\n",
    "Note: Do not detect any HTML tag, attribute or attribute value inside the HTML comment tags (<!-- Comments -->).Comments can be multiline as well."
   ]
  },
  {
   "cell_type": "code",
   "execution_count": 93,
   "id": "8bd1c608",
   "metadata": {},
   "outputs": [
    {
     "name": "stdout",
     "output_type": "stream",
     "text": [
      "2\n",
      "<html><head><title>HTML Parser - I</title></head>\n",
      "Start : html\n",
      "Start : head\n",
      "Start : title\n",
      "End   : title\n",
      "End   : head\n",
      "<body data-modal-target class='1'><h1>HackerRank</h1><br /></body></html>\n",
      "Start : body\n",
      "-> data-modal-target > None\n",
      "-> class > 1\n",
      "Start : h1\n",
      "End   : h1\n",
      "Empty : br\n",
      "End   : body\n",
      "End   : html\n"
     ]
    }
   ],
   "source": [
    "from html.parser import HTMLParser\n",
    "\n",
    "class MyHTMLParser(HTMLParser):\n",
    "    def handle_starttag(self, tag, attrs):\n",
    "        print('Start :', tag)\n",
    "        self.handle_attrs(attrs)\n",
    "\n",
    "    def handle_endtag(self, tag):\n",
    "        print('End   :', tag)\n",
    "\n",
    "    def handle_startendtag(self, tag, attrs):\n",
    "        print('Empty :', tag)\n",
    "        self.handle_attrs(attrs)\n",
    "\n",
    "    def handle_attrs(self, attrs):\n",
    "        for attribute in attrs:\n",
    "            print('->', attribute[0], '>', attribute[1])\n",
    "\n",
    "\n",
    "parser = MyHTMLParser()\n",
    "\n",
    "n = int(input())\n",
    "for i in range(n):\n",
    "    html = input()\n",
    "    parser.feed(html)    "
   ]
  },
  {
   "cell_type": "code",
   "execution_count": null,
   "id": "6224497e",
   "metadata": {},
   "outputs": [],
   "source": []
  },
  {
   "cell_type": "markdown",
   "id": "d3eb9c0c",
   "metadata": {},
   "source": [
    "## HTML Parser - Part 2"
   ]
  },
  {
   "cell_type": "code",
   "execution_count": 102,
   "id": "18c2e4df",
   "metadata": {},
   "outputs": [
    {
     "name": "stdout",
     "output_type": "stream",
     "text": [
      "4\n",
      "<!--[if IE 9]>IE9-specific content\n",
      "<![endif]-->\n",
      "<div> Welcome to HackerRank</div>\n",
      "<!--[if IE 9]>IE9-specific content<![endif]-->\n",
      ">>> Multi-line Comment\n",
      "[if IE 9]>IE9-specific content\n",
      "<![endif]\n",
      ">>> Data\n",
      " Welcome to HackerRank\n",
      ">>> Single-line Comment\n",
      "[if IE 9]>IE9-specific content<![endif]\n"
     ]
    }
   ],
   "source": [
    "from html.parser import HTMLParser\n",
    "\n",
    "class MyHTMLParser(HTMLParser):\n",
    "    def handle_comment(self,data):\n",
    "        if data.count('\\n') > 0:\n",
    "            print('>>> Multi-line Comment')\n",
    "        else:\n",
    "            print('>>> Single-line Comment')\n",
    "        print(data)\n",
    "            \n",
    "    def handle_data(self,data):\n",
    "        if len(data) > 1:\n",
    "            print('>>> Data')\n",
    "            print(data)\n",
    "\n",
    "html = \"\"       \n",
    "for i in range(int(input())):\n",
    "    html += input().rstrip()\n",
    "    html += '\\n'\n",
    "    \n",
    "parser = MyHTMLParser()\n",
    "parser.feed(html)\n",
    "parser.close()"
   ]
  },
  {
   "cell_type": "code",
   "execution_count": null,
   "id": "977bad80",
   "metadata": {},
   "outputs": [],
   "source": []
  },
  {
   "cell_type": "markdown",
   "id": "2c064e64",
   "metadata": {},
   "source": [
    "## Detect HTML Tags, Attributes and Attribute Values"
   ]
  },
  {
   "cell_type": "code",
   "execution_count": 103,
   "id": "de4e11cf",
   "metadata": {},
   "outputs": [
    {
     "name": "stdout",
     "output_type": "stream",
     "text": [
      "9\n",
      "<head>\n",
      "<title>HTML</title>\n",
      "</head>\n",
      "<object type=\"application/x-flash\" \n",
      "data=\"your-file.swf\" \n",
      "width=\"0\" height=\"0\">\n",
      "<!-- <param name=\"movie\" value=\"your-file.swf\" /> -->\n",
      "<param name=\"quality\" value=\"high\"/>\n",
      "</object>\n",
      "head\n",
      "title\n",
      "object\n",
      "-> type > application/x-flash\n",
      "-> data > your-file.swf\n",
      "-> width > 0\n",
      "-> height > 0\n",
      "param\n",
      "-> name > quality\n",
      "-> value > high\n"
     ]
    }
   ],
   "source": [
    "from html.parser import HTMLParser\n",
    "\n",
    "class MyHTMLParser(HTMLParser):\n",
    "    def handle_starttag(self, tag, attrs):\n",
    "        print(tag)\n",
    "        for attribute in attrs:\n",
    "            print(\"-> {} > {}\".format(attribute[0],attribute[1]))\n",
    "\n",
    "    def handle_startendtag(self, tag, attrs):\n",
    "        print(tag)\n",
    "        for attribute in attrs:\n",
    "            print(\"-> {} > {}\".format(attribute[0],attribute[1]))\n",
    "\n",
    "html = \"\"       \n",
    "for i in range(int(input())):\n",
    "    html += input().rstrip()\n",
    "    html += '\\n'\n",
    "    \n",
    "parser = MyHTMLParser()\n",
    "parser.feed(html)\n",
    "parser.close()"
   ]
  },
  {
   "cell_type": "code",
   "execution_count": null,
   "id": "2b8159dc",
   "metadata": {},
   "outputs": [],
   "source": []
  },
  {
   "cell_type": "markdown",
   "id": "76a7a170",
   "metadata": {},
   "source": [
    "## Validating UID"
   ]
  },
  {
   "cell_type": "code",
   "execution_count": 112,
   "id": "660abece",
   "metadata": {},
   "outputs": [
    {
     "name": "stdout",
     "output_type": "stream",
     "text": [
      "2\n",
      "B1CD102354\n",
      "Invalid\n",
      "B1CDEF2354\n",
      "Valid\n"
     ]
    }
   ],
   "source": [
    "for i in range(int(input())):\n",
    "    uid = input()\n",
    "    uid = \"\".join(sorted(uid))\n",
    "\n",
    "    if (re.search(r'[A-Z]{2}',uid) and #2 uppercase alphabets\n",
    "        re.search(r'\\d{3}',uid) and # atleast 3 digits\n",
    "        not re.search(r'[^a-zA-Z0-9]',uid) and # not any alphanumeric\n",
    "        not re.search(r'(\\w)\\1',uid) and # no repetition\n",
    "        len(uid)==10): #10 characters long\n",
    "        print(\"Valid\")\n",
    "    else:\n",
    "        print(\"Invalid\")"
   ]
  },
  {
   "cell_type": "code",
   "execution_count": null,
   "id": "33fe7a83",
   "metadata": {},
   "outputs": [],
   "source": []
  },
  {
   "cell_type": "markdown",
   "id": "106aa891",
   "metadata": {},
   "source": [
    "## Validating Credit Card Numbers"
   ]
  },
  {
   "cell_type": "code",
   "execution_count": 118,
   "id": "4aaff089",
   "metadata": {},
   "outputs": [
    {
     "name": "stdout",
     "output_type": "stream",
     "text": [
      "6\n",
      "4123456789123456\n",
      "Valid\n",
      "5123-4567-8912-3456\n",
      "Valid\n",
      "61234-567-8912-3456\n",
      "Invalid\n",
      "4123356789123456\n",
      "Valid\n",
      "5133-3367-8912-3456\n",
      "Invalid\n",
      "5123 - 3567 - 8912 - 3456\n",
      "Invalid\n"
     ]
    }
   ],
   "source": [
    "for i in range(int(input())):\n",
    "    creditcrdnum = input()\n",
    "    \n",
    "    if(re.match(r'^[456]([\\d]{15}|[\\d]{3}(-[\\d]{4}){3})$',creditcrdnum) and\n",
    "       not (re.search(r'([\\d])\\1\\1\\1',creditcrdnum.replace('-',\"\")))):\n",
    "        print('Valid')\n",
    "    else:\n",
    "        print(\"Invalid\")"
   ]
  },
  {
   "cell_type": "code",
   "execution_count": null,
   "id": "325e05df",
   "metadata": {},
   "outputs": [],
   "source": []
  },
  {
   "cell_type": "markdown",
   "id": "0b79c604",
   "metadata": {},
   "source": [
    "## Validating Postal Codes"
   ]
  },
  {
   "cell_type": "code",
   "execution_count": 119,
   "id": "e02319a0",
   "metadata": {},
   "outputs": [
    {
     "name": "stdout",
     "output_type": "stream",
     "text": [
      "110000\n",
      "False\n"
     ]
    }
   ],
   "source": [
    "regex_integer_in_range = r\"^[1-9][0-9]{5}$\" # Do not delete 'r'.\n",
    "regex_alternating_repetitive_digit_pair = r\"(\\d)(?=.\\1)\" # Do not delete 'r'.\n",
    "\n",
    "\n",
    "import re\n",
    "P = input()\n",
    "\n",
    "print (bool(re.match(regex_integer_in_range, P)) \n",
    "and len(re.findall(regex_alternating_repetitive_digit_pair, P)) < 2)"
   ]
  },
  {
   "cell_type": "code",
   "execution_count": null,
   "id": "0493d051",
   "metadata": {},
   "outputs": [],
   "source": []
  },
  {
   "cell_type": "markdown",
   "id": "2cbce580",
   "metadata": {},
   "source": [
    "## Matrix Script\n",
    "Neo has a complex matrix script. The matrix script is a N X M grid of strings. It consists of alphanumeric characters, spaces and symbols (!,@,#,$,%,&)."
   ]
  },
  {
   "cell_type": "code",
   "execution_count": 21,
   "id": "88dcd080",
   "metadata": {},
   "outputs": [
    {
     "name": "stdout",
     "output_type": "stream",
     "text": [
      "7 3\n",
      "Tsi\n",
      "h%x\n",
      "i #\n",
      "sM\n",
      "$a\n",
      "#t%\n",
      "ir!\n",
      "This is Matr\n"
     ]
    }
   ],
   "source": [
    "N,M=map(int,input().split())\n",
    "\n",
    "l=list()\n",
    "\n",
    "for i in range(N):\n",
    "    l.append(input())  \n",
    "\n",
    "l=list(zip(*l))\n",
    "\n",
    "s=''\n",
    "\n",
    "for i in l:\n",
    "    s=s+''.join(i)\n",
    "\n",
    "s=''\n",
    "\n",
    "for i in l:\n",
    "    s=s+''.join(i)\n",
    "\n",
    "s=re.sub(r'\\b[^a-zA-Z0-9]+\\b',r' ',s)\n",
    "print(s)"
   ]
  }
 ],
 "metadata": {
  "kernelspec": {
   "display_name": "Python 3",
   "language": "python",
   "name": "python3"
  },
  "language_info": {
   "codemirror_mode": {
    "name": "ipython",
    "version": 3
   },
   "file_extension": ".py",
   "mimetype": "text/x-python",
   "name": "python",
   "nbconvert_exporter": "python",
   "pygments_lexer": "ipython3",
   "version": "3.8.8"
  }
 },
 "nbformat": 4,
 "nbformat_minor": 5
}
